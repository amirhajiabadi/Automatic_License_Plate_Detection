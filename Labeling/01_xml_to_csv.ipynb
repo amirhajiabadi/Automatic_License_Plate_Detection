import pandas as pd
import xml.etree.ElementTree as xet
